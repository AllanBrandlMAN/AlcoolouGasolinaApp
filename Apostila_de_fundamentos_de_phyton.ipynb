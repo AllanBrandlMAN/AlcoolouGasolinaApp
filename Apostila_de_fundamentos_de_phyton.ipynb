{
  "nbformat": 4,
  "nbformat_minor": 0,
  "metadata": {
    "colab": {
      "provenance": [],
      "authorship_tag": "ABX9TyP+fxtunhZJHraMsuvrEWEa",
      "include_colab_link": true
    },
    "kernelspec": {
      "name": "python3",
      "display_name": "Python 3"
    },
    "language_info": {
      "name": "python"
    }
  },
  "cells": [
    {
      "cell_type": "markdown",
      "metadata": {
        "id": "view-in-github",
        "colab_type": "text"
      },
      "source": [
        "<a href=\"https://colab.research.google.com/github/AllanBrandlMAN/AlcoolouGasolinaApp/blob/master/Apostila_de_fundamentos_de_phyton.ipynb\" target=\"_parent\"><img src=\"https://colab.research.google.com/assets/colab-badge.svg\" alt=\"Open In Colab\"/></a>"
      ]
    },
    {
      "cell_type": "markdown",
      "source": [
        "1.1 - variaveis de texto"
      ],
      "metadata": {
        "id": "3BbMm3BozL9x"
      }
    },
    {
      "cell_type": "code",
      "execution_count": null,
      "metadata": {
        "id": "5pHxyKHOxYiz"
      },
      "outputs": [],
      "source": [
        "1# hastag na area de codigo para comentarios curtos\n",
        "'''Aspas triplas para comentario de mais de uma linha"
      ]
    },
    {
      "cell_type": "code",
      "source": [
        "1# strings\n",
        "cliente = 'Saulo'\n",
        "print(cliente)\n",
        "\n",
        "# verificar qual tipo de dado foi escolhido automaticamente\n",
        "type (cliente)"
      ],
      "metadata": {
        "colab": {
          "base_uri": "https://localhost:8080/"
        },
        "id": "GO5XgSMI0LTn",
        "outputId": "10f7980a-99ee-4d12-98b3-8e56c5752367"
      },
      "execution_count": 4,
      "outputs": [
        {
          "output_type": "stream",
          "name": "stdout",
          "text": [
            "Saulo\n"
          ]
        },
        {
          "output_type": "execute_result",
          "data": {
            "text/plain": [
              "str"
            ]
          },
          "metadata": {},
          "execution_count": 4
        }
      ]
    },
    {
      "cell_type": "code",
      "source": [
        "# numeros inteiro\n",
        "idade = 27\n",
        "print(idade)\n",
        "type(idade)"
      ],
      "metadata": {
        "colab": {
          "base_uri": "https://localhost:8080/"
        },
        "id": "h8y190vb3txV",
        "outputId": "9880c047-535b-4a58-e2ee-5b62f6c31d72"
      },
      "execution_count": 5,
      "outputs": [
        {
          "output_type": "stream",
          "name": "stdout",
          "text": [
            "27\n"
          ]
        },
        {
          "output_type": "execute_result",
          "data": {
            "text/plain": [
              "int"
            ]
          },
          "metadata": {},
          "execution_count": 5
        }
      ]
    },
    {
      "cell_type": "code",
      "source": [
        "# float = numeros com casas decimais\n",
        "altura = 1.75\n",
        "print(altura)\n",
        "type(altura)"
      ],
      "metadata": {
        "colab": {
          "base_uri": "https://localhost:8080/"
        },
        "id": "oQkmk_il36SR",
        "outputId": "f5872f8f-9037-4b69-82a4-a26219976e76"
      },
      "execution_count": 7,
      "outputs": [
        {
          "output_type": "stream",
          "name": "stdout",
          "text": [
            "1.75\n"
          ]
        },
        {
          "output_type": "execute_result",
          "data": {
            "text/plain": [
              "float"
            ]
          },
          "metadata": {},
          "execution_count": 7
        }
      ]
    },
    {
      "cell_type": "code",
      "source": [
        "# mudando o tipo original do dado\n",
        "\"Suponha que vc tem o numero 1.85 tipado com String mas deseja converte-lo para float\"\n",
        "n = '1.85'\n",
        "print(type(n))\n",
        "n = float(n)\n",
        "print(type(n))"
      ],
      "metadata": {
        "colab": {
          "base_uri": "https://localhost:8080/"
        },
        "id": "3AHQUxJh4sNX",
        "outputId": "c165b2d2-66c6-4657-acf3-ccacdc5fbadd"
      },
      "execution_count": 10,
      "outputs": [
        {
          "output_type": "stream",
          "name": "stdout",
          "text": [
            "<class 'str'>\n",
            "<class 'float'>\n"
          ]
        }
      ]
    },
    {
      "cell_type": "code",
      "source": [
        "\"Transformando valor int em float\"\n",
        "print(type(idade))\n",
        "idade = float(idade)\n",
        "print(type(idade))"
      ],
      "metadata": {
        "colab": {
          "base_uri": "https://localhost:8080/"
        },
        "id": "1G9TsiRM7uNk",
        "outputId": "3ad13531-acef-4582-e67f-543820443448"
      },
      "execution_count": 11,
      "outputs": [
        {
          "output_type": "stream",
          "name": "stdout",
          "text": [
            "<class 'int'>\n",
            "<class 'float'>\n"
          ]
        }
      ]
    },
    {
      "cell_type": "markdown",
      "source": [],
      "metadata": {
        "id": "eOSgr9H4zHIS"
      }
    },
    {
      "cell_type": "code",
      "source": [
        "# soma\n",
        "soma = 10 + 10\n",
        "print(soma)"
      ],
      "metadata": {
        "colab": {
          "base_uri": "https://localhost:8080/"
        },
        "id": "Es_wd1qZ840X",
        "outputId": "de0b91bf-9e83-4e12-bdd3-f9ee90d07782"
      },
      "execution_count": 12,
      "outputs": [
        {
          "output_type": "stream",
          "name": "stdout",
          "text": [
            "20\n"
          ]
        }
      ]
    },
    {
      "cell_type": "code",
      "source": [
        "# subtracao\n",
        "subtracao = 10 - 5\n",
        "print(subtracao)"
      ],
      "metadata": {
        "colab": {
          "base_uri": "https://localhost:8080/"
        },
        "id": "dlS0zENf9SQn",
        "outputId": "9315db09-008a-4df1-a035-ae0cb5d0ef7f"
      },
      "execution_count": 13,
      "outputs": [
        {
          "output_type": "stream",
          "name": "stdout",
          "text": [
            "5\n"
          ]
        }
      ]
    },
    {
      "cell_type": "code",
      "source": [
        "# multiplicacao\n",
        "multiplicacao = 10 * 10\n",
        "print(multiplicacao)"
      ],
      "metadata": {
        "colab": {
          "base_uri": "https://localhost:8080/"
        },
        "id": "gsZ2rS8z9WaI",
        "outputId": "a6c6ca1e-92a8-4270-c32d-e13ae11264b6"
      },
      "execution_count": 14,
      "outputs": [
        {
          "output_type": "stream",
          "name": "stdout",
          "text": [
            "100\n"
          ]
        }
      ]
    },
    {
      "cell_type": "code",
      "source": [
        "# divisao\n",
        "divisao = 10 / 2\n",
        "print(divisao)"
      ],
      "metadata": {
        "colab": {
          "base_uri": "https://localhost:8080/"
        },
        "id": "k-FC6Ron9dfP",
        "outputId": "203fb9d4-d2bd-4660-97bf-bca9a54dbd81"
      },
      "execution_count": 15,
      "outputs": [
        {
          "output_type": "stream",
          "name": "stdout",
          "text": [
            "5.0\n"
          ]
        }
      ]
    }
  ]
}